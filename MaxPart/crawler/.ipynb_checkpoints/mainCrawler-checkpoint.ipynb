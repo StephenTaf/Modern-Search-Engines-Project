{
 "cells": [
  {
   "cell_type": "code",
   "execution_count": 4,
   "id": "e3f3749a-a048-49fe-b1fa-61821f72de4e",
   "metadata": {},
   "outputs": [
    {
     "ename": "SyntaxError",
     "evalue": "invalid syntax (2853990444.py, line 36)",
     "output_type": "error",
     "traceback": [
      "\u001b[0;36m  Input \u001b[0;32mIn [4]\u001b[0;36m\u001b[0m\n\u001b[0;31m    if inLibraryOrNot(url:\u001b[0m\n\u001b[0m                         ^\u001b[0m\n\u001b[0;31mSyntaxError\u001b[0m\u001b[0;31m:\u001b[0m invalid syntax\n"
     ]
    }
   ],
   "source": [
    "import requests, trafilatura\n",
    "import hashlib\n",
    "import multiprocessing\n",
    "\n",
    "headers = {\n",
    "    \"User-Agent\": \"DSEUniProjectCrawler/1.0 (contact: poncho.prime-3y@icloud.com)\", #We don't have a webpage for our crawler\n",
    "    \"From\": \"poncho.prime-3y@icloud.com\" \n",
    "}\n",
    "\n",
    "url = \"https://example.com\"\n",
    "\n",
    "activeURLS = []\n",
    "\n",
    "\n",
    "def includeOrNot(text):\n",
    "    include = True\n",
    "    return include\n",
    "\n",
    "\n",
    "\n",
    "\n",
    "\n",
    "\n",
    "# The following function just simply collects all the urls of a website and throws them into a list\n",
    "def urlCollectorl(url):\n",
    "    listOfCrawledUrls\n",
    "    response = requests.get(url, headers=headers)\n",
    "    content = trafilatura.extract(response.text)\n",
    "    links = trafilatura.extract_links(html)\n",
    "\n",
    "    \n",
    "\n",
    "    if includeOrNot(content):\n",
    "        file = {'text':content, 'outgoingLinks':links, 'IncomingLinks':[]}\n",
    "        hash = hashlib.sha1(url.encode('utf-8')).hexdigest()\n",
    "        filename = f\"{hash}.json\"\n",
    "\n",
    "        if inLibraryOrNot(url:\n",
    "        \n",
    "\n",
    "\n",
    "        \n",
    "print(\"Logical cores:\", multiprocessing.cpu_count())\n",
    "\n",
    "\n",
    "def inLibraryOrNot\n",
    "\n",
    "#def englishOrNot(text):\n",
    "\n",
    "\n",
    "#def tuebingenOrNot(text):\n",
    "\n",
    "    \n",
    "\n",
    "    \n",
    "    \n",
    "    \n",
    "    \n",
    "    \n",
    "\n"
   ]
  },
  {
   "cell_type": "code",
   "execution_count": null,
   "id": "4313963e-587f-4315-a1fc-dda1e91b58fb",
   "metadata": {},
   "outputs": [],
   "source": []
  }
 ],
 "metadata": {
  "kernelspec": {
   "display_name": "Python 3 (ipykernel)",
   "language": "python",
   "name": "python3"
  },
  "language_info": {
   "codemirror_mode": {
    "name": "ipython",
    "version": 3
   },
   "file_extension": ".py",
   "mimetype": "text/x-python",
   "name": "python",
   "nbconvert_exporter": "python",
   "pygments_lexer": "ipython3",
   "version": "3.9.13"
  }
 },
 "nbformat": 4,
 "nbformat_minor": 5
}
