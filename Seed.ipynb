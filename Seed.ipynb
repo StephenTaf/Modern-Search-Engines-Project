{
  "nbformat": 4,
  "nbformat_minor": 0,
  "metadata": {
    "colab": {
      "provenance": []
    },
    "kernelspec": {
      "name": "python3",
      "display_name": "Python 3"
    },
    "language_info": {
      "name": "python"
    }
  },
  "cells": [
    {
      "cell_type": "code",
      "execution_count": null,
      "metadata": {
        "id": "7H6amUnZXGDO"
      },
      "outputs": [],
      "source": [
        "Seed=[\"https://uni-tuebingen.de/en/\",\n",
        "      \"https://www.medizin.uni-tuebingen.de/en-de/startseite\",\n",
        "      \"https://www.tuebingen.mpg.de/en\",\n",
        "      \"https://tuebingen.ai/\",\n",
        "      \"https://tuebingenresearchcampus.com/\",\n",
        "      \"https://www.hih-tuebingen.de/en/\",\n",
        "      \"https://www.dzif.de/en/partner-sites/tubingen\",\n",
        "      \"https://cyber-valley.de/en\"\n",
        "      \"https://www.tuebingen.de/\",\n",
        "      \"https://www.swtue.de/en\",\n",
        "      \"https://www.tripadvisor.co.uk/Tourism-g198539-Tubingen_Baden_Wurttemberg-Vacations.html\"\n",
        "      \"https://www.tuebus.de/en/index.html\",\n",
        "      \"https://en.wikivoyage.org/wiki/T%C3%BCbingen\",\n",
        "      \"https://www.my-stuwe.de/en/housing/halls-of-residence-tuebingen/\",\n",
        "      \"https://tuenews.de/en/latest-news-english/\",\n",
        "      \"https://www.thelocal.de/tag/tubingen/\"\n",
        "      ]"
      ]
    },
    {
      "cell_type": "markdown",
      "source": [
        "I have noticed that mostly university websites come up for the queries. So, I have included them in abundance.\n",
        "\n",
        "This is the educational section, Very good detailed websites, link out generoulsy to related sources.\n",
        "1. University Website(comes up in almost every query)\n",
        "2. Uni-Klinic\n",
        "4. Max-Planck\n",
        "5. Tuebingen AI centre\n",
        "6. Tuebingen Research Centre\n",
        "7. Hertie institute\n",
        "8. German Centre for Infection Research\n",
        "9. Cyber Valley\n",
        "\n",
        "\n",
        "Next I wanted to do offical gov websites but they are in german, However there is an option to translate in english, which unforutnately doesn't make a difference in the URL and might make difficulty in crawling them. (Something to look into?)\n",
        "I'll include them anyway, But These may not classify as english sources:\n",
        "1. Tuebingen city website.\n",
        "2. Stadtwerke Tuebingen\n",
        "\n",
        "\n",
        "Tourism Websites:\n",
        "The tourism websites are only in german. And the englsih websites might be too much for our crawler. These ones should work if we make it so that the crawler doesn't crawl pages that lead back to the original website. Still might not work.  \n",
        "\n",
        "1. Trip-advisor.\n",
        "2. WikiVoyage.  \n",
        "3.Wikipedia\n",
        "\n",
        "Transport and Living:\n",
        "Both of these will work great.\n",
        "1.  TU Bus\n",
        "2. Halls of residence\n",
        "Can't inlcude WGgesucht because its in german\n",
        "\n",
        "News:\n",
        "I would like to include a news website but it might have temporary relevance and sometimes other articel not related to tuebingen. Again crawling process might have to filter. Just an option.\n",
        "1. Tuenews(Initiative of the landkreis)\n",
        "2. The local.de (English and tuebingen focused.)\n",
        "\n",
        "\n"
      ],
      "metadata": {
        "id": "YDrSGyPkZAM5"
      }
    }
  ]
}